{
 "cells": [
  {
   "cell_type": "code",
   "execution_count": 10,
   "id": "31192c50-2550-48b4-9c18-935600b9ce59",
   "metadata": {},
   "outputs": [
    {
     "name": "stdout",
     "output_type": "stream",
     "text": [
      "        Age    Income  LoanAmount  CreditScore  MonthsEmployed  \\\n",
      "0  0.833990  0.089693   -1.086833    -0.341492        0.590533   \n",
      "1  1.701221 -0.823021   -0.044309    -0.731666       -1.285731   \n",
      "2  0.166888  0.043854    0.022715    -0.775718       -0.968209   \n",
      "3 -0.767053 -1.303452   -1.168538     1.061875       -1.718715   \n",
      "4  1.100830 -1.592855   -1.671921     0.369631       -1.487790   \n",
      "\n",
      "   NumCreditLines  InterestRate  LoanTerm  DTIRatio  Education  \\\n",
      "0        1.341937      0.261771 -0.001526 -0.260753          0   \n",
      "1       -1.343791     -1.308350  1.412793  0.778585          2   \n",
      "2        0.446694      1.156831 -0.708685 -0.823728          2   \n",
      "3        0.446694     -0.967805 -0.708685 -1.170174          1   \n",
      "4        1.341937     -1.052188  0.705634  0.995114          0   \n",
      "\n",
      "   EmploymentType  MaritalStatus  HasMortgage  HasDependents  LoanPurpose  \\\n",
      "0               0              0            1              1            4   \n",
      "1               0              1            0              0            4   \n",
      "2               3              0            1              1            0   \n",
      "3               0              1            0              0            1   \n",
      "4               3              0            0              1            0   \n",
      "\n",
      "   HasCoSigner  Default  \n",
      "0            1        0  \n",
      "1            1        0  \n",
      "2            0        1  \n",
      "3            0        0  \n",
      "4            0        0  \n"
     ]
    }
   ],
   "source": [
    "##DATA PREPROCESSING##\n",
    "\n",
    "import pandas as pd\n",
    "from sklearn.preprocessing import LabelEncoder, StandardScaler\n",
    "\n",
    "# Load dataset\n",
    "df = pd.read_csv(r'C:\\Users\\quodh\\OneDrive\\Documents\\data-folder\\Loan_default.csv')\n",
    "\n",
    "# Drop ID column\n",
    "df = df.drop(columns=['LoanID'])\n",
    "\n",
    "# Encode categorical features\n",
    "cat_cols = df.select_dtypes(include='object').columns\n",
    "le = LabelEncoder()\n",
    "for col in cat_cols:\n",
    "    df[col] = le.fit_transform(df[col])\n",
    "\n",
    "# Scale numerical features (excluding target 'Default')\n",
    "num_cols = df.drop(columns=['Default']).select_dtypes(include=['int64', 'float64']).columns\n",
    "df[num_cols] = StandardScaler().fit_transform(df[num_cols])\n",
    "\n",
    "# Final preprocessed data\n",
    "print(df.head())"
   ]
  },
  {
   "cell_type": "code",
   "execution_count": null,
   "id": "e2166483-dc0a-4748-a6c9-b728794e30ce",
   "metadata": {},
   "outputs": [],
   "source": []
  }
 ],
 "metadata": {
  "kernelspec": {
   "display_name": "Python 3 (ipykernel)",
   "language": "python",
   "name": "python3"
  },
  "language_info": {
   "codemirror_mode": {
    "name": "ipython",
    "version": 3
   },
   "file_extension": ".py",
   "mimetype": "text/x-python",
   "name": "python",
   "nbconvert_exporter": "python",
   "pygments_lexer": "ipython3",
   "version": "3.12.7"
  }
 },
 "nbformat": 4,
 "nbformat_minor": 5
}
